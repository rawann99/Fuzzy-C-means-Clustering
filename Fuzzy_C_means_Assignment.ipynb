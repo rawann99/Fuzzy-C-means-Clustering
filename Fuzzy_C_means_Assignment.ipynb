{
  "cells": [
    {
      "cell_type": "markdown",
      "metadata": {
        "id": "MycSfmmm_2oA"
      },
      "source": [
        "# <center><font color=blue>Fuzzy C means Clustering </font>"
      ]
    },
    {
      "cell_type": "markdown",
      "metadata": {
        "id": "2mJROw4A_2oQ"
      },
      "source": [
        "<font size=4>Use the data provided in the file “clustering_assignmentData.csv” where we know that there are three clusters from the labels (K = 3). Apply Fuzzy C-means algorithm on the data provied where each row in the file corresponds to one data point. <br> <br>\n",
        "\n",
        "Important Notes:  <br>One important aspect of fuzzy c means that changes the results significantly is the initialization. So you should run the fuzzy c-means algorithm with the given initialization below above 100 times. The final output of the clustering is the result that gives the minimum  J ( the objective function in lec 6 slide 13).\n",
        "One possible startegy for intialization cluster centers is to select the furthest points from each other. \n",
        "it's required to try clustering with different q (the fuzziness Index and visualize the results)\n",
        "</font>\n"
      ]
    },
    {
      "cell_type": "markdown",
      "metadata": {
        "id": "BXSmceGVHvz3"
      },
      "source": [
        "# <font color=blue> Deliverables: </font>"
      ]
    },
    {
      "cell_type": "markdown",
      "metadata": {
        "id": "ZleZMssVHvz4"
      },
      "source": [
        "<font size=4>\n",
        "• This file after including your code <br>\n",
        "• A plot of the points provided in the dataset after clustering showing the three identified clusters. For this plot, use the best clustering result out of 100 trials you did and for different q”. </font>"
      ]
    },
    {
      "cell_type": "markdown",
      "metadata": {
        "id": "JhhScnW-Hvz4"
      },
      "source": [
        "# <font color=blue> Deadline: </font>"
      ]
    },
    {
      "cell_type": "markdown",
      "metadata": {
        "id": "h_Atmx4THvz5"
      },
      "source": [
        "<font size=4>•Jan 15, 2023<br>\n",
        "• Delay Policy: Each day of delay cost you 2 grades and after three days of delay you lose full\n",
        "assignment grade <br>\n",
        "• Submissions will be through moodle not by email <br>\n",
        "• Individual submissions, no teams <br> </font>"
      ]
    },
    {
      "cell_type": "markdown",
      "metadata": {
        "id": "vGNpDJBW_2oh"
      },
      "source": [
        "# <center><font color=blue>Solution </font>"
      ]
    },
    {
      "cell_type": "markdown",
      "metadata": {
        "id": "yvkVXuq2_2om"
      },
      "source": [
        "<font color=blue size=4>1-Needed Packages"
      ]
    },
    {
      "cell_type": "code",
      "execution_count": null,
      "metadata": {
        "collapsed": true,
        "id": "1wdlgPeH_2or"
      },
      "outputs": [],
      "source": [
        "import numpy as np\n",
        "import matplotlib.pylab as plt\n",
        "import math\n",
        "import pandas as pd\n",
        "from numpy.random import seed\n",
        "import sys\n",
        "ep = sys.float_info.epsilon"
      ]
    },
    {
      "cell_type": "markdown",
      "metadata": {
        "id": "oMdf0CDc_2o9"
      },
      "source": [
        "<font color=blue size=4>2-Load Data"
      ]
    },
    {
      "cell_type": "code",
      "execution_count": null,
      "metadata": {
        "collapsed": true,
        "id": "kWJ3PyGq_2pD"
      },
      "outputs": [],
      "source": [
        "def Random_Select(data):\n",
        "    \"\"\"\n",
        "    This Function should implement step 1 in slide 15, Lec 6\n",
        "    Input: Dataset\n",
        "    Return: 3-means\n",
        "    \"\"\"\n",
        "\n",
        "    \n",
        "\n",
        " \n",
        "    \n",
        "    return m1,m2,m3 "
      ]
    },
    {
      "cell_type": "code",
      "execution_count": null,
      "metadata": {
        "collapsed": true,
        "id": "wkGToFTYHv0A"
      },
      "outputs": [],
      "source": [
        "def Membership(data,m1,m2,m3, q):\n",
        "    \"\"\"\n",
        "    This function should implement step 2 in slide 15, Lec 6\n",
        "    Possible values for rnk will be any value between [0,1] \n",
        "    Input: Dataset, 3-means, memership matrix, and the fuzziness Index\n",
        "    Return: New membership matrix with shape (len(data), 3)\n",
        "    ** hint: the distace between the cluster mean point and itself is zero,\n",
        "        it will result NANs and INFs in the rnk equation, \n",
        "        you can add epsilon to the distaces in you rnk computaions\n",
        "    \"\"\"\n",
        "    \n",
        "\n",
        "\n",
        "    \n",
        "    \n",
        "    \n",
        "    \n",
        "    rnk = \n",
        "    \n",
        "    \n",
        "    assert rnk.shape == (len(data), 3)\n",
        "\n",
        "    return rnk\n"
      ]
    },
    {
      "cell_type": "code",
      "execution_count": null,
      "metadata": {
        "collapsed": true,
        "id": "Z_0-OLgO_2pf"
      },
      "outputs": [],
      "source": [
        "def Update_Means(data,rnk,q):\n",
        "    \"\"\"\n",
        "    This function should implement step 3 in slide 15, Lec 6\n",
        "    \n",
        "    Input: Dataset, memership vector, and the fuzzines index\n",
        "    Return: updated 3-means\n",
        "    \"\"\"\n",
        "\n",
        "    \n",
        "    \n",
        "    \n",
        "    return m1,m2,m3\n"
      ]
    },
    {
      "cell_type": "code",
      "execution_count": null,
      "metadata": {
        "collapsed": true,
        "id": "GeVIYi75_2ps"
      },
      "outputs": [],
      "source": [
        "def Objective_Function(data,rnk,m1,m2,m3, q):\n",
        "    \"\"\"\n",
        "    This function should implement  objective Function in slide 13,Lec 6\n",
        "    \n",
        "    Input: Dataset, memership matrix, 3-means, and the fuzzines index\n",
        "    Return: Total Average Distance\n",
        "    \"\"\"\n",
        "\n",
        "\n",
        "    \n",
        "    \n",
        "\n",
        "\n",
        "    return Avgdist"
      ]
    },
    {
      "cell_type": "code",
      "execution_count": null,
      "metadata": {
        "collapsed": true,
        "id": "DrKQfbjhHv0E"
      },
      "outputs": [],
      "source": [
        "def Stopping_Criteria(m1_b,m2_b,m3_b,m1,m2,m3):\n",
        "    \"\"\"\n",
        "    This function should Test Convergence\n",
        "    \n",
        "    Input:  3-means before updating and after it.\n",
        "    Return: return True or  return False\n",
        "    ** hint: unlike this step in the k means algorithm,\n",
        "            you need to compute the differnce between the old and new means,\n",
        "            and comapre the difference to a very small threshold, \n",
        "            or your can compare after rounding the means to 4 of 5 decimal places.\n",
        "    \"\"\"\n",
        "\n",
        "    \n",
        "    \n",
        "\n",
        "    \n",
        "    \n",
        "    \n"
      ]
    },
    {
      "cell_type": "code",
      "execution_count": null,
      "metadata": {
        "collapsed": true,
        "id": "P3bNJ2Mx_2qI"
      },
      "outputs": [],
      "source": [
        "#________________________Main Code Statrs here___________________________________\n",
        "def myFCM(data, q):\n",
        "        assert q > 1\n",
        "        m1f,m2f,m3f=np.zeros((2,100)),np.zeros((2,100)),np.zeros((2,100)) # 3 - Means \n",
        "\n",
        "        Avgdist=np.zeros((100,))\n",
        "        counter=0\n",
        "\n",
        "        while(counter <100):\n",
        "            \n",
        "                # --------------------Intialization Step 1------------------------------#\n",
        "                seed(counter)\n",
        "                m1,m2,m3 = Random_Select(data)\n",
        "\n",
        "                rnk = np.zeros(len(data)) # Membership Vector\n",
        "\n",
        "                m1_b = m1\n",
        "                m2_b = m2\n",
        "                m3_b = m3\n",
        "                cc = 0\n",
        "                while(True):\n",
        "                    #---------------Step 2 compute rnk-----------------------------------------#\n",
        "\n",
        "                    rnk = Membership(data,m1,m2,m3, q)\n",
        "\n",
        "                    assert all(np.round(np.sum(rnk, axis = 1), 2) == np.ones(len(rnk)))\n",
        "\n",
        "                    #---------------Step 3 update means-----------------------------------------#\n",
        "\n",
        "                    m1,m2,m3 = Update_Means(data,rnk, q)\n",
        "\n",
        "                    #---------------Step 4 Test Convergence -----------------------------------------#\n",
        "\n",
        "                    if Stopping_Criteria(m1_b,m2_b,m3_b,m1,m2,m3):\n",
        "                         m1f[:,counter],m2f[:,counter],m3f[:,counter] = m1,m2,m3\n",
        "\n",
        "                         Avgdist[counter] = Objective_Function(data,rnk,m1,m2,m3, q)\n",
        "                         break\n",
        "\n",
        "\n",
        "                    m1_b = m1\n",
        "                    m2_b = m2\n",
        "                    m3_b = m3\n",
        "\n",
        "                counter += 1     \n",
        "\n",
        "        idx = np.argmin(Avgdist)\n",
        "        m1_ = m1f[:,idx]\n",
        "        m2_ = m2f[:,idx]\n",
        "        m3_ = m3f[:,idx]\n",
        "        rnk_=np.argmax(Membership(data,m1_,m2_,m3_, q), axis = 1)\n",
        "        return rnk_, m1_, m2_, m3_"
      ]
    },
    {
      "cell_type": "code",
      "execution_count": null,
      "metadata": {
        "collapsed": true,
        "id": "FYejj4NovThN"
      },
      "outputs": [],
      "source": [
        "# Load Data\n",
        "df = pd.read_csv('clustering_assignmentData.csv')\n",
        "data = df[['X1', 'X2']].values\n",
        "y = df['y'].values"
      ]
    },
    {
      "cell_type": "code",
      "execution_count": null,
      "metadata": {
        "id": "9apfjgI6Hv0H",
        "outputId": "d2ec1525-e421-44f2-e5c7-8aa236b90952"
      },
      "outputs": [
        {
          "data": {
            "text/plain": [
              "<matplotlib.collections.PathCollection at 0x158ea730>"
            ]
          },
          "execution_count": 11,
          "metadata": {},
          "output_type": "execute_result"
        },
        {
          "data": {
            "image/png": "[encoded data removed]",
            "text/plain": [
              "<Figure size 432x288 with 1 Axes>"
            ]
          },
          "metadata": {
            "needs_background": "light"
          },
          "output_type": "display_data"
        }
      ],
      "source": [
        "plt.scatter(data[:, 0],data[:, 1], color = list(map(lambda x: {0:'r', 1: 'g', 2: 'y'}.get(x), y)))"
      ]
    },
    {
      "cell_type": "markdown",
      "metadata": {
        "id": "k0Mlm3GZ_2qU"
      },
      "source": [
        "# Plotting "
      ]
    },
    {
      "cell_type": "code",
      "execution_count": null,
      "metadata": {
        "colab": {
          "base_uri": "https://localhost:8080/",
          "height": 282
        },
        "id": "5Ew2lDTa_2qZ",
        "outputId": "5ecbc0eb-18b4-4e2e-d664-00869cf31f4d"
      },
      "outputs": [
        {
          "data": {
            "text/plain": [
              "<matplotlib.collections.PathCollection at 0x16dd94c0>"
            ]
          },
          "execution_count": 15,
          "metadata": {},
          "output_type": "execute_result"
        },
        {
          "data": {
            "image/png": "[encoded data removed]",
            "text/plain": [
              "<Figure size 432x288 with 1 Axes>"
            ]
          },
          "metadata": {
            "needs_background": "light"
          },
          "output_type": "display_data"
        }
      ],
      "source": [
        "# Plotting the Final Centroids and data. \n",
        "q  =2\n",
        "rnk_ , m1_, m2_, m3_= myFCM(data, q)\n",
        "plt.scatter(data[:, 0],data[:, 1], color = list(map(lambda x: {0:'r', 1: 'g', 2: 'y'}.get(x), rnk_)))\n",
        "plt.scatter([m1_[0], m2_[0],m3_[0]],[m1_[1], m2_[1], m3_[1]], marker = 'D', c = 'black')\n"
      ]
    },
    {
      "cell_type": "code",
      "execution_count": null,
      "metadata": {
        "collapsed": true,
        "id": "WZIfgpZZHv0K"
      },
      "outputs": [],
      "source": [
        "q = 3\n",
        "rnk_ , m1_, m2_, m3_= myFCM(data, q)\n",
        "\n",
        "plt.scatter(data[:, 0],data[:, 1], color = list(map(lambda x: {0:'r', 1: 'g', 2: 'y'}.get(x), rnk_)))\n",
        "plt.scatter([m1_[0], m2_[0],m3_[0]],[m1_[1], m2_[1], m3_[1]], marker = 'D', c = 'black')"
      ]
    },
    {
      "cell_type": "code",
      "execution_count": null,
      "metadata": {
        "collapsed": true,
        "id": "OCjUzCbBHv0L"
      },
      "outputs": [],
      "source": [
        "q = 4\n",
        "rnk_ , m1_, m2_, m3_= myFCM(data, q)\n",
        "\n",
        "plt.scatter(data[:, 0],data[:, 1], color = list(map(lambda x: {0:'r', 1: 'g', 2: 'y'}.get(x), rnk_)))\n",
        "plt.scatter([m1_[0], m2_[0],m3_[0]],[m1_[1], m2_[1], m3_[1]], marker = 'D', c = 'black')"
      ]
    },
    {
      "cell_type": "code",
      "execution_count": null,
      "metadata": {
        "collapsed": true,
        "id": "xqeex28GHv0M"
      },
      "outputs": [],
      "source": [
        "q = 5\n",
        "rnk_ , m1_, m2_, m3_= myFCM(data, q)\n",
        "\n",
        "plt.scatter(data[:, 0],data[:, 1], color = list(map(lambda x: {0:'r', 1: 'g', 2: 'y'}.get(x), rnk_)))\n",
        "plt.scatter([m1_[0], m2_[0],m3_[0]],[m1_[1], m2_[1], m3_[1]], marker = 'D', c = 'black')"
      ]
    },
    {
      "cell_type": "code",
      "execution_count": null,
      "metadata": {
        "collapsed": true,
        "id": "h5w29Rx9Hv0O"
      },
      "outputs": [],
      "source": []
    }
  ],
  "metadata": {
    "colab": {
      "provenance": []
    },
    "kernelspec": {
      "display_name": "Python 3",
      "language": "python",
      "name": "python3"
    },
    "language_info": {
      "codemirror_mode": {
        "name": "ipython",
        "version": 3
      },
      "file_extension": ".py",
      "mimetype": "text/x-python",
      "name": "python",
      "nbconvert_exporter": "python",
      "pygments_lexer": "ipython3",
      "version": "3.6.2"
    }
  },
  "nbformat": 4,
  "nbformat_minor": 0
}